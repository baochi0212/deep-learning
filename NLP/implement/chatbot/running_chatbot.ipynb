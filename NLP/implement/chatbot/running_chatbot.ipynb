{
  "cells": [
    {
      "cell_type": "markdown",
      "metadata": {
        "id": "view-in-github",
        "colab_type": "text"
      },
      "source": [
        "<a href=\"https://colab.research.google.com/github/baochi0212/deep-learning-/blob/master/running_chatbot.ipynb\" target=\"_parent\"><img src=\"https://colab.research.google.com/assets/colab-badge.svg\" alt=\"Open In Colab\"/></a>"
      ]
    },
    {
      "cell_type": "code",
      "source": [
        "!git clone https://github.com/baochi0212/deep-learning-"
      ],
      "metadata": {
        "colab": {
          "base_uri": "https://localhost:8080/"
        },
        "id": "aVOeltsG2zYp",
        "outputId": "a93e1b9d-9ef1-4040-a8cc-95bb26c5d000"
      },
      "execution_count": null,
      "outputs": [
        {
          "output_type": "stream",
          "name": "stdout",
          "text": [
            "Cloning into 'deep-learning-'...\n",
            "remote: Enumerating objects: 28, done.\u001b[K\n",
            "remote: Counting objects: 100% (28/28), done.\u001b[K\n",
            "remote: Compressing objects: 100% (22/22), done.\u001b[K\n",
            "remote: Total 28 (delta 9), reused 24 (delta 5), pack-reused 0\u001b[K\n",
            "Unpacking objects: 100% (28/28), done.\n"
          ]
        }
      ]
    },
    {
      "cell_type": "code",
      "source": [
        "!bash /content/deep-learning-/download_data.sh"
      ],
      "metadata": {
        "colab": {
          "base_uri": "https://localhost:8080/"
        },
        "id": "8Yw2jOrrVuKP",
        "outputId": "d57784ae-e267-4dd1-864d-ea06f95c8b92"
      },
      "execution_count": null,
      "outputs": [
        {
          "output_type": "stream",
          "name": "stdout",
          "text": [
            "--2022-03-02 15:39:48--  http://www.cs.cornell.edu/~cristian/data/cornell_movie_dialogs_corpus.zip\n",
            "Resolving www.cs.cornell.edu (www.cs.cornell.edu)... 132.236.207.36\n",
            "Connecting to www.cs.cornell.edu (www.cs.cornell.edu)|132.236.207.36|:80... connected.\n",
            "HTTP request sent, awaiting response... 200 OK\n",
            "Length: 9916637 (9.5M) [application/zip]\n",
            "Saving to: ‘cornell_movie_dialogs_corpus.zip’\n",
            "\n",
            "cornell_movie_dialo 100%[===================>]   9.46M  5.02MB/s    in 1.9s    \n",
            "\n",
            "2022-03-02 15:39:50 (5.02 MB/s) - ‘cornell_movie_dialogs_corpus.zip’ saved [9916637/9916637]\n",
            "\n",
            "Archive:  cornell_movie_dialogs_corpus.zip\n",
            "   creating: cornell movie-dialogs corpus/\n",
            "  inflating: cornell movie-dialogs corpus/.DS_Store  \n",
            "   creating: __MACOSX/\n",
            "   creating: __MACOSX/cornell movie-dialogs corpus/\n",
            "  inflating: __MACOSX/cornell movie-dialogs corpus/._.DS_Store  \n",
            "  inflating: cornell movie-dialogs corpus/chameleons.pdf  \n",
            "  inflating: __MACOSX/cornell movie-dialogs corpus/._chameleons.pdf  \n",
            "  inflating: cornell movie-dialogs corpus/movie_characters_metadata.txt  \n",
            "  inflating: cornell movie-dialogs corpus/movie_conversations.txt  \n",
            "  inflating: cornell movie-dialogs corpus/movie_lines.txt  \n",
            "  inflating: cornell movie-dialogs corpus/movie_titles_metadata.txt  \n",
            "  inflating: cornell movie-dialogs corpus/raw_script_urls.txt  \n",
            "  inflating: cornell movie-dialogs corpus/README.txt  \n",
            "  inflating: __MACOSX/cornell movie-dialogs corpus/._README.txt  \n"
          ]
        }
      ]
    },
    {
      "cell_type": "code",
      "source": [
        "!mv '/content/data' '/content/deep-learning-'"
      ],
      "metadata": {
        "id": "rucXQXYU5hqU"
      },
      "execution_count": null,
      "outputs": []
    },
    {
      "cell_type": "code",
      "source": [
        "%cd /content/deep-learning-/main"
      ],
      "metadata": {
        "colab": {
          "base_uri": "https://localhost:8080/"
        },
        "id": "LR93pCTT21yd",
        "outputId": "826e93de-4941-49c6-c922-d14acd0d5083"
      },
      "execution_count": null,
      "outputs": [
        {
          "output_type": "stream",
          "name": "stdout",
          "text": [
            "/content/deep-learning-/main\n"
          ]
        }
      ]
    },
    {
      "cell_type": "code",
      "source": [
        "!pip install einops"
      ],
      "metadata": {
        "colab": {
          "base_uri": "https://localhost:8080/"
        },
        "id": "eA5yRQYO27ha",
        "outputId": "9875b412-4095-4d3c-b669-b0736c29c96f"
      },
      "execution_count": null,
      "outputs": [
        {
          "output_type": "stream",
          "name": "stdout",
          "text": [
            "Collecting einops\n",
            "  Downloading einops-0.4.0-py3-none-any.whl (28 kB)\n",
            "Installing collected packages: einops\n",
            "Successfully installed einops-0.4.0\n"
          ]
        }
      ]
    },
    {
      "cell_type": "code",
      "source": [
        "!python /content/deep-learning-/preprocessing/preprocess.py"
      ],
      "metadata": {
        "id": "JURwF9lK33zU",
        "outputId": "2689070c-5330-4f29-d695-3e99df7f780b",
        "colab": {
          "base_uri": "https://localhost:8080/"
        }
      },
      "execution_count": null,
      "outputs": [
        {
          "output_type": "stream",
          "name": "stdout",
          "text": [
            "[nltk_data] Downloading package stopwords to /root/nltk_data...\n",
            "[nltk_data]   Unzipping corpora/stopwords.zip.\n",
            "Expressing my opinion is not a terrorist action.\n",
            "\n",
            "----INPUT, TARGET Can we make this quick?  Roxanne Korrine and Andrew Barrett are having an incredibly horrendous public break- up on the quad.  Again. Well, I thought we'd start with pronunciation, if that's okay with you.\n",
            "----data                                                    input                                    target\n",
            "0             gosh if only we could find kat a boyfriend                  let me see what i can do\n",
            "1                           cesc ma tete this is my head      right  see  youre ready for the quiz\n",
            "2                                                  there                                     where\n",
            "3                       you have my word  as a gentleman                               youre sweet\n",
            "4                                                     hi  looks like things worked out tonight huh\n",
            "...                                                  ...                                       ...\n",
            "64661                         what oclock is it mr noggs                  eleven oclock my lorj 42\n",
            "64662     are you dictating the strategy of this war sir                  im explaining my reasons\n",
            "64663                                             stuart                                       yes\n",
            "64664  well fed or hungry pulleine wants them in posi...            right  bombardier to me please\n",
            "64665   do you think she might be interested in  someone                                 which one\n",
            "\n",
            "[64666 rows x 2 columns]\n",
            "OFFICIAL DATA                                                    input                                    target\n",
            "0             gosh if only we could find kat a boyfriend                  let me see what i can do\n",
            "1                           cesc ma tete this is my head      right  see  youre ready for the quiz\n",
            "2                                                  there                                     where\n",
            "3                       you have my word  as a gentleman                               youre sweet\n",
            "4                                                     hi  looks like things worked out tonight huh\n",
            "...                                                  ...                                       ...\n",
            "64661                         what oclock is it mr noggs                  eleven oclock my lorj 42\n",
            "64662     are you dictating the strategy of this war sir                  im explaining my reasons\n",
            "64663                                             stuart                                       yes\n",
            "64664  well fed or hungry pulleine wants them in posi...            right  bombardier to me please\n",
            "64665   do you think she might be interested in  someone                                 which one\n",
            "\n",
            "[64666 rows x 2 columns]\n",
            "VOCAB movie\n",
            "NUMWORDS 26943\n"
          ]
        }
      ]
    },
    {
      "cell_type": "code",
      "execution_count": null,
      "metadata": {
        "id": "bGRJSCOr2L8X",
        "outputId": "799347e2-9c6c-48e2-81d2-0b3fcd86a0de",
        "colab": {
          "base_uri": "https://localhost:8080/"
        }
      },
      "outputs": [
        {
          "output_type": "stream",
          "name": "stdout",
          "text": [
            "[nltk_data] Downloading package stopwords to /root/nltk_data...\n",
            "[nltk_data]   Package stopwords is already up-to-date!\n"
          ]
        }
      ],
      "source": [
        "import torch\n",
        "import torch.nn as nn \n",
        "import sys\n",
        "import os \n",
        "from pathlib import Path \n",
        "from dataset import Translate_dataset\n",
        "from torch.utils.data import DataLoader, Dataset\n",
        "import pandas as pd\n",
        "import torch.nn.functional as F\n",
        "from einops import repeat\n",
        "from neural_net import EncoderRNN, Attn, LuongAttnDecoderRNN\n",
        "import random\n",
        "import matplotlib.pyplot as plt\n",
        "from tqdm import tqdm"
      ]
    },
    {
      "cell_type": "markdown",
      "source": [
        "# MY VOCAB\n"
      ],
      "metadata": {
        "id": "ocUiKRnyY_wQ"
      }
    },
    {
      "cell_type": "code",
      "execution_count": null,
      "metadata": {
        "colab": {
          "base_uri": "https://localhost:8080/"
        },
        "id": "mg-I-j4F2L8d",
        "outputId": "74e01d02-d6c9-4679-bc3f-3e95ab0c2af0"
      },
      "outputs": [
        {
          "output_type": "stream",
          "name": "stdout",
          "text": [
            "                                                   input                                    target\n",
            "0             gosh if only we could find kat a boyfriend                  let me see what i can do\n",
            "1                           cesc ma tete this is my head      right  see  youre ready for the quiz\n",
            "2                                                  there                                     where\n",
            "3                       you have my word  as a gentleman                               youre sweet\n",
            "4                                                     hi  looks like things worked out tonight huh\n",
            "...                                                  ...                                       ...\n",
            "64661                         what oclock is it mr noggs                  eleven oclock my lorj 42\n",
            "64662     are you dictating the strategy of this war sir                  im explaining my reasons\n",
            "64663                                             stuart                                       yes\n",
            "64664  well fed or hungry pulleine wants them in posi...            right  bombardier to me please\n",
            "64665   do you think she might be interested in  someone                                 which one\n",
            "\n",
            "[64666 rows x 2 columns]\n",
            "VOCAB None\n",
            "NUMWORDS 26943\n"
          ]
        }
      ],
      "source": [
        "class Vocab:\n",
        "    def __init__(self, name=None):\n",
        "        self.name = name\n",
        "        self.word2idx = {\"PAD\": 0, \"SOS\": 1, \"EOS\": 2}\n",
        "        self.idx2word = {1: \"SOS\", 0: \"PAD\", 2: \"EOS\"} #3 special keywords\n",
        "        self.num_words = 3\n",
        "        self.word_counts = {} #SOS, EOS, PAD\n",
        "\n",
        "    def add_sentence(self, sentence):\n",
        "        for word in sentence.split():\n",
        "            self.add_word(word)\n",
        "    def add_word(self, word):\n",
        "        if word in self.word2idx.keys():\n",
        "            self.word_counts[word] += 1\n",
        "\n",
        "        else:\n",
        "            self.word2idx[word] = self.num_words\n",
        "            self.idx2word[self.num_words] = word\n",
        "            self.word_counts[word] = 1 \n",
        "            self.num_words += 1\n",
        "\n",
        "class normalize_funcs:\n",
        "    def __init__(self, rareword=None):\n",
        "        self.punctuation = string.punctuation\n",
        "        self.rareword = rareword\n",
        "    def lower_case(self, text):\n",
        "        return text.lower()\n",
        "\n",
        "    def remove_punctuation(self, text):\n",
        "        return text.translate(str.maketrans('', '', self.punctuation))\n",
        "\n",
        "    def remove_rareword(self, text):\n",
        "        return ' '.join(word for word in text.split() if word not in self.rareword)\n",
        "    def trimming(self, input, target, min_freq=3):\n",
        "        counter = {}\n",
        "        for arg in [input, target]:\n",
        "            for line in arg:\n",
        "                for word in line.split():\n",
        "                    if word in counter:\n",
        "                        counter[word] += 1\n",
        "                    else:\n",
        "                        counter[word] = 1\n",
        "\n",
        "        #min freq = 3\n",
        "\n",
        "        rare_words = []\n",
        "        for key, value in counter.items():\n",
        "            if value < min_freq:\n",
        "                rare_words.append(key)\n",
        "        #trimming\n",
        "        new_input = []\n",
        "        new_target = []\n",
        "        for line1, line2 in zip(input, target):\n",
        "            if word in line1 or word in line2:\n",
        "                continue\n",
        "            else:\n",
        "                new_input.append(line1)\n",
        "                new_target.append(line2)\n",
        "        return new_input, new_target\n",
        "\n",
        "vocab = Vocab()\n",
        "data = pd.read_csv(os.path.join('/content/deep-learning-/data/cornell movie-dialogs corpus/pair_df.csv'), sep='@')\n",
        "print(data)\n",
        "for i in range(len(data)):\n",
        "    input, target = data.iloc[i, :]\n",
        "    for line in [input, target]:\n",
        "        vocab.add_sentence(line)\n",
        "print('VOCAB', vocab.name)\n",
        "print('NUMWORDS', vocab.num_words)"
      ]
    },
    {
      "cell_type": "code",
      "execution_count": null,
      "metadata": {
        "id": "gsIbjAkW2L8g"
      },
      "outputs": [],
      "source": [
        "def maskNLLLoss(inp, target, mask):\n",
        "    nTotal = mask.sum()\n",
        "    crossEntropy = -torch.log(torch.gather(inp, 1, target.view(-1, 1)).squeeze(1))\n",
        "    loss = crossEntropy.masked_select(mask).mean()\n",
        "    loss = loss\n",
        "    return loss, nTotal.item()"
      ]
    },
    {
      "cell_type": "markdown",
      "metadata": {
        "id": "aSAzqfhm2L8i"
      },
      "source": [
        "training 2\n"
      ]
    },
    {
      "cell_type": "code",
      "source": [
        "dataloader= DataLoader(dataset, batch_size=64, collate_fn=pad_fn)\n",
        "iter(dataloader).next()"
      ],
      "metadata": {
        "id": "Jwa0kEPyQeEu"
      },
      "execution_count": null,
      "outputs": []
    },
    {
      "cell_type": "code",
      "source": [
        "def pad_fn(batch):\n",
        "  sample_input, sample_target, length = zip(*batch)\n",
        "  sample_input = list(sample_input)\n",
        "  sample_target = list(sample_target)\n",
        "  max_input_len = max([input.shape[0] for input in sample_input])\n",
        "  max_target_len = max([target.shape[0] for target in sample_target])\n",
        "  mask = torch.zeros([len(sample_input), sample_input[0].shape[0]])\n",
        "  for i in range(len(sample_input)):\n",
        "    if sample_input[i].shape[0] < max_input_len: \n",
        "      sample_input[i] = torch.cat([sample_input[i], torch.zeros([max_input_len - sample_input[i].shape[0]], dtype=torch.long)])\n",
        "      mask = torch.tensor([True if i.item() != 0 else False for i in sample_input[i]])\n",
        "  for i in range(len(sample_target)):\n",
        "    if sample_target[i].shape[0] < max_target_len: \n",
        "      sample_target[i] = torch.cat([sample_target[i], torch.zeros([max_target_len - sample_target[i].shape[0]], dtype=torch.long)])\n",
        " \n",
        "  return sample_input, sample_target, length, mask, max_target_len"
      ],
      "metadata": {
        "id": "lnyEh5x7OItv"
      },
      "execution_count": null,
      "outputs": []
    },
    {
      "cell_type": "markdown",
      "source": [
        "# TRAIN\n"
      ],
      "metadata": {
        "id": "1ga2cKziqPR1"
      }
    },
    {
      "cell_type": "code",
      "execution_count": null,
      "metadata": {
        "id": "0RJ_ryfG2L8m"
      },
      "outputs": [],
      "source": [
        "def train(input_variable, lengths, target_variable, mask, max_target_len, encoder, decoder,\n",
        "          encoder_optimizer, decoder_optimizer, batch_size, clip, device='gpu'):\n",
        "\n",
        "      #input and optimizer\n",
        "      if torch.cuda.is_available():\n",
        "        input_variable, target_variable = input_variable.cuda(), target_variable.cuda()\n",
        "        encoder.cuda()\n",
        "        decoder.cuda()\n",
        "        mask = mask.cuda()\n",
        "        decoder_input = torch.tensor([[1] for i in range(batch_size)], dtype=torch.long).reshape(1, -1).cuda()\n",
        "      else:\n",
        "        decoder_input = torch.tensor([[1] for i in range(batch_size)], dtype=torch.long).reshape(1, -1)\n",
        "      encoder_optimizer.zero_grad()\n",
        "      decoder_optimizer.zero_grad() \n",
        "\n",
        "      #feed to model\n",
        "      #encoder:\n",
        "      encoder_output, encoder_hidden = encoder(input_variable, lengths)\n",
        "      # #repeat the final hidden according to the num_layers of encoder \n",
        "      # decoder_hidden = repeat(encoder_hidden[-1], 'b h -> n b h', n=decoder.n_layers)\n",
        "      decoder_hidden = encoder_hidden[-decoder.n_layers:]\n",
        "      total_loss = 0\n",
        "      n_total = 0\n",
        "      #target shape 11 x 32 (seq x batch)\n",
        "      teacher_forcing = True\n",
        "      for i in range(max_target_len): \n",
        "          decoder_output, decoder_hidden = decoder(decoder_input, decoder_hidden, encoder_output)\n",
        "          if teacher_forcing:\n",
        "            decoder_input = target_variable[i].reshape(1, batch_size) #target seq x batch\n",
        "          else:\n",
        "            decoder_input = torch.argmax(decoder_output, dim=1).reshape(1, batch_size) # seq 1 x batch 32 \n",
        "  \n",
        "          loss, ntotal = maskNLLLoss(decoder_output, target_variable[i].reshape(batch_size, 1), mask[i])\n",
        "          total_loss += loss\n",
        "          n_total += ntotal\n",
        "      \n",
        "      #backward\n",
        "      total_loss.backward()\n",
        "\n",
        "      _ = nn.utils.clip_grad_norm_(encoder.parameters(), clip)\n",
        "      _ = nn.utils.clip_grad_norm_(decoder.parameters(), clip)\n",
        "\n",
        "      #step\n",
        "      encoder_optimizer.step()\n",
        "      decoder_optimizer.step()\n",
        "\n",
        "      return total_loss/n_total"
      ]
    },
    {
      "cell_type": "code",
      "execution_count": null,
      "metadata": {
        "id": "OufzHEn22L8q",
        "colab": {
          "base_uri": "https://localhost:8080/"
        },
        "outputId": "50fefd19-6703-4b16-d223-b79f92f99b19"
      },
      "outputs": [
        {
          "output_type": "stream",
          "name": "stdout",
          "text": [
            "Building encoder and decoder ...\n",
            "Models built and ready to go!\n"
          ]
        }
      ],
      "source": [
        "# Configure models\n",
        "model_name = 'cb_model'\n",
        "attn_model = 'dot'\n",
        "#attn_model = 'general'\n",
        "#attn_model = 'concat'\n",
        "hidden_size = 500\n",
        "encoder_n_layers = 2\n",
        "decoder_n_layers = 2\n",
        "dropout = 0.1\n",
        "batch_size = 64\n",
        "device='cuda' if torch.cuda.is_available() else 'cpu'\n",
        "\n",
        "clip = 50.0\n",
        "teacher_forcing_ratio = 1.0\n",
        "learning_rate = 0.0001\n",
        "decoder_learning_ratio = 5.0\n",
        "\n",
        "\n",
        "print('Building encoder and decoder ...')\n",
        "# Initialize word embeddings\n",
        "embedding = nn.Embedding(vocab.num_words, hidden_size)\n",
        "\n",
        "# Initialize encoder & decoder models\n",
        "encoder = EncoderRNN(hidden_size, embedding, encoder_n_layers, dropout)\n",
        "decoder = LuongAttnDecoderRNN(attn_model, embedding, hidden_size, vocab.num_words, decoder_n_layers, dropout)\n",
        "# Use appropriate device\n",
        "encoder = encoder.to(device)\n",
        "decoder = decoder.to(device)\n",
        "encoder.train()\n",
        "decoder.train()\n",
        "encoder_optimizer = torch.optim.Adam(encoder.parameters(), lr=learning_rate)\n",
        "decoder_optimizer = torch.optim.Adam(decoder.parameters(), lr=learning_rate*decoder_learning_ratio)\n",
        "print('Models built and ready to go!')"
      ]
    },
    {
      "cell_type": "markdown",
      "source": [
        "\n",
        "\n",
        "```\n",
        "# This is formatted as code\n",
        "```\n",
        "\n",
        "# XL BATCH\n"
      ],
      "metadata": {
        "id": "oBzWnBWl0f23"
      }
    },
    {
      "cell_type": "code",
      "source": [
        "class Translate_dataset(Dataset):\n",
        "    def __init__(self, vocab, data, MAX_LEN=10):\n",
        "        super().__init__()\n",
        "        self.vocab = vocab\n",
        "        self.data = data\n",
        "        self.MAX_LEN = MAX_LEN \n",
        "    def __getitem__(self, idx):\n",
        "        input, target = self.data.iloc[idx, :]\n",
        "        #get the tensor word:\n",
        "        tensor_input = torch.tensor([self.vocab.word2idx[word] for word in input.split()] + [self.vocab.word2idx['EOS']], dtype=torch.long)\n",
        "        tensor_target = torch.tensor([self.vocab.word2idx[word] for word in target.split()] + [self.vocab.word2idx['EOS']], dtype=torch.long)\n",
        "        item = [tensor_input, tensor_target] #just a copy not affect 2 above variables \n",
        "        #padding\n",
        "        if len(input.split()) < self.MAX_LEN + 1:\n",
        "            tensor_input = torch.cat([tensor_input, torch.zeros(self.MAX_LEN - len(input.split()), dtype=torch.long)])\n",
        "        if len(target.split()) < self.MAX_LEN + 1:\n",
        "            tensor_target = torch.cat([tensor_target, torch.zeros(self.MAX_LEN - len(target.split()), dtype=torch.long)])\n",
        "            mask = torch.tensor([True if i.item() != 0 else False for i in tensor_target])\n",
        "\n",
        "        return tensor_input.reshape(-1, 1), tensor_target.reshape(-1, 1), tensor_input.shape[0], mask.reshape(-1, 1)\n",
        "\n",
        "    def __len__(self):\n",
        "        return len(self.data)"
      ],
      "metadata": {
        "id": "5OK224LL472t"
      },
      "execution_count": null,
      "outputs": []
    },
    {
      "cell_type": "code",
      "source": [
        " set = Translate_dataset(vocab, data)\n",
        " print('---SHAPE', set[0][0].shape)\n",
        " #loader \n",
        " dataloader = DataLoader(set, batch_size, shuffle=True, drop_last=True)"
      ],
      "metadata": {
        "id": "YZLzhCHj46-Q",
        "outputId": "a4e972f0-114b-441d-ef28-34e16fd08203",
        "colab": {
          "base_uri": "https://localhost:8080/"
        }
      },
      "execution_count": null,
      "outputs": [
        {
          "output_type": "stream",
          "name": "stdout",
          "text": [
            "---SHAPE torch.Size([11, 1])\n"
          ]
        }
      ]
    },
    {
      "cell_type": "code",
      "source": [
        "loss = []\n",
        "for j in tqdm(range(10)):\n",
        "  for i, batch in enumerate(dataloader):\n",
        "      sample_input, sample_target, lengths, mask = batch\n",
        "      \n",
        "      sample_input = sample_input.squeeze(-1).permute(1, 0)\n",
        "      sample_target = sample_target.squeeze(-1).permute(1, 0)\n",
        "      mask = mask.squeeze(-1).permute(1, 0)\n",
        "      loss.append(train(sample_input, lengths, sample_target, mask, 11, encoder, decoder, encoder_optimizer, decoder_optimizer, batch_size, clip=clip))"
      ],
      "metadata": {
        "id": "Ps9-Mzx-y-nh"
      },
      "execution_count": null,
      "outputs": []
    },
    {
      "cell_type": "code",
      "execution_count": null,
      "metadata": {
        "id": "JtxLbOSz2L8u",
        "colab": {
          "base_uri": "https://localhost:8080/",
          "height": 284
        },
        "outputId": "715b987f-fd60-47dc-82e7-09b2e81e615c"
      },
      "outputs": [
        {
          "output_type": "execute_result",
          "data": {
            "text/plain": [
              "[<matplotlib.lines.Line2D at 0x7fe305a08a10>]"
            ]
          },
          "metadata": {},
          "execution_count": 15
        },
        {
          "output_type": "display_data",
          "data": {
            "image/png": "[encoded data removed]",
            "text/plain": [
              "<Figure size 432x288 with 1 Axes>"
            ]
          },
          "metadata": {
            "needs_background": "light"
          }
        }
      ],
      "source": [
        "for i in range(len(loss)):\n",
        "  loss[i] = loss[i].detach().item()\n",
        "plt.plot(loss)\n",
        "# loss"
      ]
    },
    {
      "cell_type": "code",
      "execution_count": null,
      "metadata": {
        "id": "4FnK44lz2L8v",
        "colab": {
          "base_uri": "https://localhost:8080/"
        },
        "outputId": "22042efa-c6e9-41ba-d97b-03ac94df9bf7"
      },
      "outputs": [
        {
          "output_type": "execute_result",
          "data": {
            "text/plain": [
              "LuongAttnDecoderRNN(\n",
              "  (embedding): Embedding(26943, 500)\n",
              "  (embedding_dropout): Dropout(p=0.1, inplace=False)\n",
              "  (gru): GRU(500, 500, num_layers=2, dropout=0.1)\n",
              "  (concat): Linear(in_features=1000, out_features=500, bias=True)\n",
              "  (out): Linear(in_features=500, out_features=26943, bias=True)\n",
              "  (attn): Attn()\n",
              ")"
            ]
          },
          "metadata": {},
          "execution_count": 16
        }
      ],
      "source": [
        "def evaluate(encoder, decoder, input_variable, lengths, max_length=11, device='cpu'):\n",
        "    decoder_input = torch.tensor([1], dtype=torch.long).reshape(1, 1)\n",
        "    encoder_output, encoder_hidden = encoder(input_variable, lengths)\n",
        "    # decoder_hidden = repeat(encoder_hidden[-1], 'b h -> n b h', n=decoder.n_layers)\n",
        "    decoder_hidden = encoder_hidden[-decoder.n_layers:]\n",
        "    print(encoder_output.shape, decoder_hidden.shape)\n",
        "\n",
        "    out_token = []\n",
        "    for i in range(max_length):\n",
        "        decoder_ouput, decoder_hidden = decoder(decoder_input, decoder_hidden, encoder_output)\n",
        "        out_token.append(torch.argmax(decoder_ouput, dim=1))\n",
        "        decoder_input = torch.argmax(decoder_ouput, dim=1).reshape(1, 1)\n",
        "           \n",
        "       \n",
        "       \n",
        "\n",
        "    \n",
        "    return out_token\n",
        "\n",
        "encoder.eval().cpu()\n",
        "decoder.eval().cpu()\n"
      ]
    },
    {
      "cell_type": "code",
      "execution_count": null,
      "metadata": {
        "id": "vSvP_V_s2L8w",
        "colab": {
          "base_uri": "https://localhost:8080/",
          "height": 54
        },
        "outputId": "c91206eb-b460-42f2-8688-2f6ba250b482"
      },
      "outputs": [
        {
          "output_type": "stream",
          "name": "stdout",
          "text": [
            "torch.Size([5, 1, 500]) torch.Size([2, 1, 500])\n"
          ]
        },
        {
          "output_type": "execute_result",
          "data": {
            "application/vnd.google.colaboratory.intrinsic+json": {
              "type": "string"
            },
            "text/plain": [
              "'im not sure EOS EOS EOS EOS EOS EOS EOS EOS '"
            ]
          },
          "metadata": {},
          "execution_count": 54
        }
      ],
      "source": [
        "word = 'can we fuck together'\n",
        "\n",
        "\n",
        "word_tensor = torch.tensor([vocab.word2idx[i] for i in word.split()] +  [2],dtype=torch.long)\n",
        "# if len(word.split()) < 11:\n",
        "#           word_tensor = torch.cat([word_tensor, torch.zeros(10 - len(word.split()), dtype=torch.long)])\n",
        "word_tensor = word_tensor.reshape(-1, 1)\n",
        "out_token = evaluate(encoder, decoder, word_tensor, torch.tensor([len(word.split()) + 1]))\n",
        "sentence = ''\n",
        "for i in out_token:\n",
        "    sentence += vocab.idx2word[i.item()] + ' '\n",
        "sentence"
      ]
    }
  ],
  "metadata": {
    "interpreter": {
      "hash": "73fdcbcaa6b22d852c0f9bd9783ab6b1b1c25c52a0a8da76beae07513436cb85"
    },
    "kernelspec": {
      "display_name": "Python 3.9.7 ('deeplearning')",
      "language": "python",
      "name": "python3"
    },
    "language_info": {
      "codemirror_mode": {
        "name": "ipython",
        "version": 3
      },
      "file_extension": ".py",
      "mimetype": "text/x-python",
      "name": "python",
      "nbconvert_exporter": "python",
      "pygments_lexer": "ipython3",
      "version": "3.9.7"
    },
    "orig_nbformat": 4,
    "colab": {
      "name": "chatbot.ipynb",
      "provenance": [],
      "collapsed_sections": [],
      "toc_visible": true,
      "include_colab_link": true
    },
    "accelerator": "GPU"
  },
  "nbformat": 4,
  "nbformat_minor": 0
}