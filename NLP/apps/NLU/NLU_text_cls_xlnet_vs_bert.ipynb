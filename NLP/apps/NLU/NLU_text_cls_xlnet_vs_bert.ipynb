{
  "cells": [
    {
      "cell_type": "markdown",
      "source": [
        "**XLnet vs Bert in text classification**"
      ],
      "metadata": {
        "id": "nqFMtEq5yBdW"
      }
    },
    {
      "cell_type": "markdown",
      "metadata": {
        "id": "1vfwCnC7TcRJ"
      },
      "source": [
        "#packages"
      ]
    },
    {
      "cell_type": "code",
      "execution_count": null,
      "metadata": {
        "colab": {
          "base_uri": "https://localhost:8080/"
        },
        "id": "3kZ2rOgGPLrO",
        "outputId": "a9684cfd-3f54-4e81-cc55-633daaf591f9"
      },
      "outputs": [
        {
          "output_type": "stream",
          "name": "stdout",
          "text": [
            "\u001b[K     |████████████████████████████████| 4.7 MB 5.2 MB/s \n",
            "\u001b[K     |████████████████████████████████| 143 kB 73.7 MB/s \n",
            "\u001b[K     |████████████████████████████████| 6.6 MB 42.8 MB/s \n",
            "\u001b[K     |████████████████████████████████| 101 kB 11.7 MB/s \n",
            "\u001b[?25h"
          ]
        }
      ],
      "source": [
        "!pip install -q transformers accelerate"
      ]
    },
    {
      "cell_type": "markdown",
      "metadata": {
        "id": "7T_gHveKnEDF"
      },
      "source": [
        "#data"
      ]
    },
    {
      "cell_type": "code",
      "execution_count": null,
      "metadata": {
        "colab": {
          "base_uri": "https://localhost:8080/"
        },
        "id": "6-rgVIbOnJEr",
        "outputId": "750809b8-223e-4dd8-edc6-c2be6cbd2aaa"
      },
      "outputs": [
        {
          "output_type": "stream",
          "name": "stdout",
          "text": [
            "/usr/local/lib/python3.7/dist-packages/gdown/cli.py:131: FutureWarning: Option `--id` was deprecated in version 4.3.1 and will be removed in 5.0. You don't need to pass it anymore to use a file ID.\n",
            "  category=FutureWarning,\n",
            "Downloading...\n",
            "From: https://drive.google.com/uc?id=1wHt8PsMLsfX5yNSqrt2fSTcb8LEiclcf\n",
            "To: /content/data.zip\n",
            "100% 491k/491k [00:00<00:00, 132MB/s]\n"
          ]
        }
      ],
      "source": [
        "!gdown --id  1wHt8PsMLsfX5yNSqrt2fSTcb8LEiclcf                                                             "
      ]
    },
    {
      "cell_type": "code",
      "execution_count": null,
      "metadata": {
        "colab": {
          "base_uri": "https://localhost:8080/"
        },
        "id": "cR9mn8jRnKfJ",
        "outputId": "98ca9b58-8f58-458c-f241-7986d4162e0a"
      },
      "outputs": [
        {
          "output_type": "stream",
          "name": "stdout",
          "text": [
            "Archive:  /content/data.zip\n",
            "  inflating: complaint1700.csv       \n",
            "  inflating: noncomplaint1700.csv    \n",
            "  inflating: test_data.csv           \n"
          ]
        }
      ],
      "source": [
        "!unzip /content/data.zip"
      ]
    },
    {
      "cell_type": "code",
      "execution_count": null,
      "metadata": {
        "id": "8LAN-f6rnxUU"
      },
      "outputs": [],
      "source": [
        "import pandas as pd\n",
        "import re\n",
        "from sklearn.model_selection import train_test_split\n",
        "import matplotlib.pyplot as plt\n",
        "import numpy as np"
      ]
    },
    {
      "cell_type": "code",
      "execution_count": null,
      "metadata": {
        "id": "sFC2Ht2xnx1u"
      },
      "outputs": [],
      "source": [
        "pos = pd.read_csv('/content/complaint1700.csv')\n",
        "pos['label'] = 0\n",
        "neg = pd.read_csv('/content/noncomplaint1700.csv')\n",
        "neg['label'] = 1\n",
        "train_df = pd.concat([pos, neg]).reset_index(drop=True)\n",
        "\n",
        "\n",
        "\n",
        "train_df = train_df.loc[:, ['tweet', 'label']]\n",
        "test_df = pd.read_csv('/content/test_data.csv').loc[:, ['tweet']]"
      ]
    },
    {
      "cell_type": "code",
      "execution_count": null,
      "metadata": {
        "id": "PEf9tbBSnzgi"
      },
      "outputs": [],
      "source": [
        "def text_preprocessing(text):\n",
        "    \"\"\"\n",
        "    - Remove entity mentions (eg. '@united')\n",
        "    - Correct errors (eg. '&amp;' to '&')\n",
        "    @param    text (str): a string to be processed.\n",
        "    @return   text (Str): the processed string.\n",
        "    \"\"\"\n",
        "    # Remove '@name'\n",
        "    text = re.sub(r'(@.*?)[\\s]', ' ', text)\n",
        "\n",
        "    # Replace '&amp;' with '&'\n",
        "    text = re.sub(r'&amp;', '&', text)\n",
        "\n",
        "    # Remove trailing whitespace\n",
        "    text = re.sub(r'\\s+', ' ', text).strip()\n",
        "\n",
        "    return text"
      ]
    },
    {
      "cell_type": "code",
      "execution_count": null,
      "metadata": {
        "id": "RlF9H_DkpEgD"
      },
      "outputs": [],
      "source": [
        "train_df['tweet'] = train_df['tweet'].apply(text_preprocessing)\n",
        "test_df['tweet'] = test_df['tweet'].apply(text_preprocessing)"
      ]
    },
    {
      "cell_type": "code",
      "execution_count": null,
      "metadata": {
        "id": "q66g2n7VpGh7"
      },
      "outputs": [],
      "source": [
        "#train val\n",
        "concat_df = train_df\n",
        "train_df, val_df = train_test_split(concat_df, test_size=0.2, random_state=3)\n",
        "train_df = train_df.reset_index(drop=True)\n",
        "val_df = val_df.reset_index(drop=True)"
      ]
    },
    {
      "cell_type": "code",
      "execution_count": null,
      "metadata": {
        "id": "hUK2HnVvpOYu"
      },
      "outputs": [],
      "source": [
        "#vocab \n",
        "\n",
        "class Vocab:\n",
        "    def __init__(self, name=None):\n",
        "        self.name = name\n",
        "        self.word2idx = {\"[PAD]\": 0, \"[SOS]\": 1, \"[EOS]\": 2}\n",
        "        self.idx2word = {1: \"[SOS]\", 0: \"[PAD]\", 2: \"[EOS]\"} #3 special keywords\n",
        "        self.num_words = 3\n",
        "        self.word_counts = {} #SOS, EOS, PAD\n",
        "\n",
        "    def add_sentence(self, sentence):\n",
        "        for word in sentence.split():\n",
        "            self.add_word(word)\n",
        "    def add_word(self, word):\n",
        "        if word in self.word2idx.keys():\n",
        "            self.word_counts[word] += 1\n",
        "\n",
        "        else:\n",
        "            self.word2idx[word] = self.num_words\n",
        "            self.idx2word[self.num_words] = word\n",
        "            self.word_counts[word] = 1 \n",
        "            self.num_words += 1\n"
      ]
    },
    {
      "cell_type": "code",
      "execution_count": null,
      "metadata": {
        "colab": {
          "base_uri": "https://localhost:8080/"
        },
        "id": "UTQMmNugpd7C",
        "outputId": "d5d02361-320f-44ba-b7e1-fc01cce0d371"
      },
      "outputs": [
        {
          "output_type": "execute_result",
          "data": {
            "text/plain": [
              "3"
            ]
          },
          "metadata": {},
          "execution_count": 19
        }
      ],
      "source": [
        "vocab = Vocab()\n",
        "sentences = []\n",
        "sentences.extend(concat_df['tweet'])\n",
        "sentences.extend(test_df['tweet'])\n",
        "for sentence in sentences:\n",
        "  if \"EOS\" in sentence:\n",
        "    print(sentence)\n",
        "    break\n",
        "    vocab.add_sentence(sentence)\n",
        "\n",
        "vocab.num_words"
      ]
    },
    {
      "cell_type": "code",
      "execution_count": null,
      "metadata": {
        "colab": {
          "base_uri": "https://localhost:8080/",
          "height": 273
        },
        "id": "9QtUe4wYpifr",
        "outputId": "58503c79-ed68-4379-9783-3fa2523e4911"
      },
      "outputs": [
        {
          "output_type": "display_data",
          "data": {
            "text/plain": [
              "<Figure size 1080x432 with 1 Axes>"
            ],
            "image/png": "[encoded data removed]"
          },
          "metadata": {
            "needs_background": "light"
          }
        }
      ],
      "source": [
        "#get the MAXLEN\n",
        "length = {}\n",
        "for sentence in sentences:\n",
        "  if len(sentence.split()) in length:\n",
        "    length[len(sentence.split())] += 1 \n",
        "  else:\n",
        "    length[len(sentence.split())] = 1\n",
        "\n",
        "list_dict = sorted([(i, j) for i, j in length.items()], key=lambda x: x[1], reverse=True)[:10]\n",
        "label = [list_dict[i][0] for i in range(len(list_dict))]\n",
        "fig, ax = plt.subplots(figsize=(15,6))\n",
        "pos = np.arange(10)\n",
        "ax.bar(pos, [i[1] for i in list_dict], width=0.5)\n",
        "ax.set_xticks(pos)\n",
        "ax.set_xticklabels(label)\n",
        "plt.show()\n"
      ]
    },
    {
      "cell_type": "code",
      "execution_count": null,
      "metadata": {
        "id": "tVxDlOmnqAJl"
      },
      "outputs": [],
      "source": [
        "MAXLEN = 24"
      ]
    },
    {
      "cell_type": "code",
      "execution_count": null,
      "metadata": {
        "id": "N3iPFjcjpkT7"
      },
      "outputs": [],
      "source": [
        "# Create a function to tokenize a set of texts\n",
        "def preprocessing_for_pretrained(data, tokenizer):\n",
        "    \"\"\"Perform required preprocessing steps for pretrained BERT.\n",
        "    @param    data (np.array): Array of texts to be processed.\n",
        "    @return   input_ids (torch.Tensor): Tensor of token ids to be fed to a model.\n",
        "    @return   attention_masks (torch.Tensor): Tensor of indices specifying which\n",
        "                  tokens should be attended to by the model.\n",
        "    \"\"\"\n",
        "    # Create empty lists to store outputs\n",
        "    input_ids = []\n",
        "    attention_masks = []\n",
        "\n",
        "    # For every sentence...\n",
        "    for sent in data:\n",
        "        token = tokenizer(\n",
        "            text=text_preprocessing(sent),  # Preprocess sentence\n",
        "            max_length=MAXLEN,                  # Max length to truncate/pad\n",
        "            pad_to_max_length=True,         # Pad sentence to max length\n",
        "            # return_tensors='pt',           # Return PyTorch tensor, but we use list for concat later \n",
        "            return_attention_mask=True      # Return attention mask\n",
        "            )\n",
        "        \n",
        "        # Add the outputs to the lists\n",
        "        input_ids.append(token['input_ids'])\n",
        "        attention_masks.append(token['attention_mask'])\n",
        "\n",
        "    # Convert lists to tensors\n",
        "    input_ids = torch.tensor(input_ids)\n",
        "    attention_masks = torch.tensor(attention_masks)\n",
        "\n",
        "    return input_ids, attention_masks"
      ]
    },
    {
      "cell_type": "code",
      "execution_count": null,
      "metadata": {
        "id": "BrhYDmCjqKvW"
      },
      "outputs": [],
      "source": [
        "# preprocessing_for_pretrained(val_df, xlnet_tokenizer)"
      ]
    },
    {
      "cell_type": "markdown",
      "metadata": {
        "id": "qkOsD8jgjFep"
      },
      "source": [
        "#models"
      ]
    },
    {
      "cell_type": "code",
      "execution_count": null,
      "metadata": {
        "id": "N7BUmgCijEwG"
      },
      "outputs": [],
      "source": [
        "import pandas as pd\n",
        "import re\n",
        "import warnings\n",
        "from tqdm.auto import tqdm\n",
        "from time import sleep\n",
        "from sklearn.metrics import roc_curve, auc\n",
        "import numpy as np\n",
        "import matplotlib.pyplot as plt\n",
        "import math\n",
        "\n",
        "import torch\n",
        "from torch.utils.data import Dataset, DataLoader\n",
        "import torch.nn as nn\n",
        "from transformers import AdamW, get_linear_schedule_with_warmup\n",
        "from transformers import AutoTokenizer, BertModel, AdamW, AutoModel, BertConfig\n",
        "from accelerate import Accelerator\n",
        "\n",
        "from google.colab import output\n",
        "output.enable_custom_widget_manager()\n",
        "\n",
        "warnings.filterwarnings(\"ignore\")"
      ]
    },
    {
      "cell_type": "code",
      "execution_count": null,
      "metadata": {
        "id": "xknpcvnNjKJK",
        "colab": {
          "base_uri": "https://localhost:8080/"
        },
        "outputId": "18b0756f-d17e-426f-8466-a772e65c5dfe"
      },
      "outputs": [
        {
          "output_type": "stream",
          "name": "stderr",
          "text": [
            "Some weights of the model checkpoint at xlnet-base-cased were not used when initializing XLNetModel: ['lm_loss.weight', 'lm_loss.bias']\n",
            "- This IS expected if you are initializing XLNetModel from the checkpoint of a model trained on another task or with another architecture (e.g. initializing a BertForSequenceClassification model from a BertForPreTraining model).\n",
            "- This IS NOT expected if you are initializing XLNetModel from the checkpoint of a model that you expect to be exactly identical (initializing a BertForSequenceClassification model from a BertForSequenceClassification model).\n",
            "Some weights of the model checkpoint at bert-base-uncased were not used when initializing BertModel: ['cls.seq_relationship.bias', 'cls.predictions.decoder.weight', 'cls.predictions.transform.LayerNorm.bias', 'cls.seq_relationship.weight', 'cls.predictions.bias', 'cls.predictions.transform.dense.bias', 'cls.predictions.transform.LayerNorm.weight', 'cls.predictions.transform.dense.weight']\n",
            "- This IS expected if you are initializing BertModel from the checkpoint of a model trained on another task or with another architecture (e.g. initializing a BertForSequenceClassification model from a BertForPreTraining model).\n",
            "- This IS NOT expected if you are initializing BertModel from the checkpoint of a model that you expect to be exactly identical (initializing a BertForSequenceClassification model from a BertForSequenceClassification model).\n"
          ]
        }
      ],
      "source": [
        "'''xlnet vs bert, M and pretrained R \n",
        "  config is M = untrained R .from_config\n",
        "  pretrained is M = trained R .from_pretrained\n",
        "  model.config -> check the config if u wanna  \n",
        "''' \n",
        "#XLNET, config example \n",
        "# xlnet_config = XLNetConfig()\n",
        "# xlnet = AutoModel.from_config(xlnet_config) from scratch\n",
        "xlnet_tokenizer = AutoTokenizer.from_pretrained('xlnet-base-cased')\n",
        "xlnet = AutoModel.from_pretrained('xlnet-base-cased')\n",
        "#BERT\n",
        "bert_tokenizer = AutoTokenizer.from_pretrained(\"bert-base-uncased\")\n",
        "bert = AutoModel.from_pretrained(\"bert-base-uncased\")\n",
        "\n"
      ]
    },
    {
      "cell_type": "code",
      "source": [
        "'''\n",
        "info: \n",
        "input_ids: tokenize, special <sep> <cls> for xlnet, <cls> for bert\n",
        "attention_mask:\n",
        "token_type: different for pairs, and token type for <cls> in xlnet is 2 \n",
        "\n",
        "'''\n",
        "sentence = \"my name is good boy\"\n",
        "sub = \"you too\"\n",
        "bert_token = tokenizer(sentence, sub, return_tensors='pt')\n",
        "xlnet_token = xlnet_tokenizer(sentence, return_tensors='pt')\n",
        "\n",
        "input_ids, attention_masks = bert_token['input_ids'], bert_token['attention_mask']\n",
        "input_ids, attention_masks = xlnet_token['input_ids'], xlnet_token['attention_mask']\n",
        "# bert(input_ids, attention_masks)['pooler_output'].shape\n",
        "# [xlnet_tokenizer.convert_ids_to_tokens(i) for i in input_ids], input_ids, attention_masks"
      ],
      "metadata": {
        "id": "59QD00VFHBTk"
      },
      "execution_count": null,
      "outputs": []
    },
    {
      "cell_type": "code",
      "source": [
        "xlnet(input_ids, attention_masks)['last_hidden_state'].shape"
      ],
      "metadata": {
        "colab": {
          "base_uri": "https://localhost:8080/"
        },
        "id": "YDxSCjtes3TT",
        "outputId": "905ce863-ee12-47fd-bafb-dfb151a64205"
      },
      "execution_count": null,
      "outputs": [
        {
          "output_type": "execute_result",
          "data": {
            "text/plain": [
              "torch.Size([1, 7, 768])"
            ]
          },
          "metadata": {},
          "execution_count": 53
        }
      ]
    },
    {
      "cell_type": "code",
      "source": [
        "class Xlnet_classifier(nn.Module):\n",
        "    \"\"\"Bert Model for Classification Tasks.\n",
        "    \"\"\"\n",
        "    def __init__(self, freeze_bert=False):\n",
        "        \"\"\"\n",
        "        @param    bert: a BertModel object\n",
        "        @param    classifier: a torch.nn.Module classifier\n",
        "        @param    freeze_bert (bool): Set `False` to fine-tune the BERT model\n",
        "        \"\"\"\n",
        "        super().__init__()\n",
        "        # Specify hidden size of BERT, hidden size of our classifier, and number of labels\n",
        "        D_in, H, D_out = 768, 50, 2\n",
        "\n",
        "        # Instantiate BERT model\n",
        "        self.xlnet = AutoModel.from_pretrained('xlnet-base-cased')\n",
        "\n",
        "        # Instantiate an one-layer feed-forward classifier\n",
        "        self.classifier = nn.Sequential(\n",
        "            nn.Linear(D_in, H),\n",
        "            nn.ReLU(),\n",
        "            #nn.Dropout(0.5),\n",
        "            nn.Linear(H, D_out)\n",
        "        )\n",
        "\n",
        "        # Freeze the Xlnet model\n",
        "        if freeze_bert:\n",
        "            for param in self.bert.parameters():\n",
        "                param.requires_grad = False\n",
        "        \n",
        "    def forward(self, input_ids, attention_mask):\n",
        "        \"\"\"\n",
        "        Feed input to BERT and the classifier to compute logits.\n",
        "        @param    input_ids (torch.Tensor): an input tensor with shape (batch_size,\n",
        "                      max_length)\n",
        "        @param    attention_mask (torch.Tensor): a tensor that hold attention mask\n",
        "                      information with shape (batch_size, max_length)\n",
        "        @return   logits (torch.Tensor): an output tensor with shape (batch_size,\n",
        "                      num_labels)\n",
        "        \"\"\"\n",
        "        # Feed input to BERT\n",
        "        outputs = self.xlnet(input_ids=input_ids,\n",
        "                            attention_mask=attention_mask)\n",
        "        \n",
        "        # Extract the last hidden state of the token `[CLS]` for classification task\n",
        "        last_hidden_state_cls = outputs['last_hidden_state'][:, -1, :]\n",
        "\n",
        "        # Feed input to classifier to compute logits\n",
        "        logits = self.classifier(last_hidden_state_cls)\n",
        "\n",
        "        return logits"
      ],
      "metadata": {
        "id": "WKHtPQrRqWH7"
      },
      "execution_count": null,
      "outputs": []
    },
    {
      "cell_type": "code",
      "execution_count": null,
      "metadata": {
        "id": "7tbfkNHikGz4"
      },
      "outputs": [],
      "source": [
        "class Bert_classifier(nn.Module):\n",
        "    \"\"\"Bert Model for Classification Tasks.\n",
        "    \"\"\"\n",
        "    def __init__(self, freeze_bert=False):\n",
        "        \"\"\"\n",
        "        @param    bert: a BertModel object\n",
        "        @param    classifier: a torch.nn.Module classifier\n",
        "        @param    freeze_bert (bool): Set `False` to fine-tune the BERT model\n",
        "        \"\"\"\n",
        "        super().__init__()\n",
        "        # Specify hidden size of BERT, hidden size of our classifier, and number of labels\n",
        "        D_in, H, D_out = 768, 50, 2\n",
        "\n",
        "        # Instantiate BERT model\n",
        "        self.bert = AutoModel.from_pretrained('bert-base-uncased')\n",
        "\n",
        "        # Instantiate an one-layer feed-forward classifier\n",
        "        self.classifier = nn.Sequential(\n",
        "            nn.Linear(D_in, H),\n",
        "            nn.ReLU(),\n",
        "            #nn.Dropout(0.5),\n",
        "            nn.Linear(H, D_out)\n",
        "        )\n",
        "\n",
        "        # Freeze the BERT model\n",
        "        if freeze_bert:\n",
        "            for param in self.bert.parameters():\n",
        "                param.requires_grad = False\n",
        "        \n",
        "    def forward(self, input_ids, attention_mask):\n",
        "        \"\"\"\n",
        "        Feed input to BERT and the classifier to compute logits.\n",
        "        @param    input_ids (torch.Tensor): an input tensor with shape (batch_size,\n",
        "                      max_length)\n",
        "        @param    attention_mask (torch.Tensor): a tensor that hold attention mask\n",
        "                      information with shape (batch_size, max_length)\n",
        "        @return   logits (torch.Tensor): an output tensor with shape (batch_size,\n",
        "                      num_labels)\n",
        "        \"\"\"\n",
        "        # Feed input to BERT\n",
        "        outputs = self.bert(input_ids=input_ids,\n",
        "                            attention_mask=attention_mask)\n",
        "        \n",
        "        # Extract the last hidden state of the token `[CLS]` for classification task\n",
        "        last_hidden_state_cls = outputs['pooler_output']\n",
        "\n",
        "        # Feed input to classifier to compute logits\n",
        "        logits = self.classifier(last_hidden_state_cls)\n",
        "\n",
        "        return logits"
      ]
    },
    {
      "cell_type": "markdown",
      "source": [
        "#train"
      ],
      "metadata": {
        "id": "9PpZjYUsE3rt"
      }
    },
    {
      "cell_type": "code",
      "source": [
        "from torch.utils.data import TensorDataset, DataLoader"
      ],
      "metadata": {
        "id": "JR-nLH0hFG9a"
      },
      "execution_count": null,
      "outputs": []
    },
    {
      "cell_type": "code",
      "source": [
        "X_train = train_df['tweet']\n",
        "X_val = val_df['tweet']\n",
        "X_test = test_df['tweet']\n",
        "MAX_LEN = 24"
      ],
      "metadata": {
        "id": "cA9kES3eFGyD"
      },
      "execution_count": null,
      "outputs": []
    },
    {
      "cell_type": "code",
      "source": [
        "tokenizer = xlnet_tokenizer"
      ],
      "metadata": {
        "id": "wT6U3O_ftQZk"
      },
      "execution_count": null,
      "outputs": []
    },
    {
      "cell_type": "code",
      "execution_count": null,
      "metadata": {
        "id": "WnYOP22dnsyh"
      },
      "outputs": [],
      "source": [
        "X_train_input, X_train_attention = preprocessing_for_pretrained(X_train, tokenizer)\n",
        "X_val_input, X_val_attention = preprocessing_for_pretrained(X_val, tokenizer) \n",
        "X_test_input, X_test_attention = preprocessing_for_pretrained(X_test, tokenizer)\n",
        "y_train = torch.tensor(train_df['label'].values, dtype=torch.long)\n",
        "y_val = torch.tensor(val_df['label'].values, dtype=torch.long)"
      ]
    },
    {
      "cell_type": "code",
      "source": [
        "# Convert other data types to torch.Tensor\n",
        "train_labels = torch.tensor(y_train)\n",
        "val_labels = torch.tensor(y_val)\n",
        "epochs = 10\n",
        "# For fine-tuning BERT, the authors recommend a batch size of 16 or 32.\n",
        "batch_size = 32\n",
        "\n",
        "# Create the DataLoader for our training set\n",
        "train_data = TensorDataset(X_train_input, X_train_attention, y_train)\n",
        "train_dataloader = DataLoader(train_data,  batch_size=batch_size, shuffle=True)\n",
        "\n",
        "# Create the DataLoader for our validation set\n",
        "val_data = TensorDataset(X_val_input, X_val_attention, y_val)\n",
        "val_dataloader = DataLoader(val_data, batch_size=batch_size, shuffle=False)\n",
        "model = Xlnet_classifier()\n",
        "optimizer = AdamW(model.parameters(), lr=5e-6)\n",
        "total_steps = len(train_dataloader) * epochs\n",
        "scheduler = get_linear_schedule_with_warmup(optimizer,\n",
        "                                                num_warmup_steps=0, # Default value\n",
        "                                                num_training_steps=total_steps)"
      ],
      "metadata": {
        "colab": {
          "base_uri": "https://localhost:8080/"
        },
        "id": "H0rgj21fFBSA",
        "outputId": "dc6e8667-1161-4dd4-b640-cafd19936fc1"
      },
      "execution_count": null,
      "outputs": [
        {
          "output_type": "stream",
          "name": "stderr",
          "text": [
            "Some weights of the model checkpoint at xlnet-base-cased were not used when initializing XLNetModel: ['lm_loss.weight', 'lm_loss.bias']\n",
            "- This IS expected if you are initializing XLNetModel from the checkpoint of a model trained on another task or with another architecture (e.g. initializing a BertForSequenceClassification model from a BertForPreTraining model).\n",
            "- This IS NOT expected if you are initializing XLNetModel from the checkpoint of a model that you expect to be exactly identical (initializing a BertForSequenceClassification model from a BertForSequenceClassification model).\n"
          ]
        }
      ]
    },
    {
      "cell_type": "code",
      "source": [
        "accelerator = Accelerator()\n",
        "model, optimizer, train_dataloader, val_dataloader = accelerator.prepare(\n",
        "    model, optimizer, train_dataloader, val_dataloader\n",
        ")\n",
        "accelerator.device\n",
        "device = 'cuda' if torch.cuda.is_available() else 'cpu'"
      ],
      "metadata": {
        "id": "Vv81z_9DFSKe"
      },
      "execution_count": null,
      "outputs": []
    },
    {
      "cell_type": "code",
      "source": [
        "import random\n",
        "import time\n",
        "\n",
        "# Specify loss function\n",
        "loss_fn = nn.CrossEntropyLoss()\n",
        "\n",
        "def set_seed(seed_value=42):\n",
        "    \"\"\"Set seed for reproducibility.\n",
        "    \"\"\"\n",
        "    random.seed(seed_value)\n",
        "    np.random.seed(seed_value)\n",
        "    torch.manual_seed(seed_value)\n",
        "    torch.cuda.manual_seed_all(seed_value)\n",
        "\n",
        "def train(model, train_dataloader, val_dataloader=None, epochs=4, evaluation=False):\n",
        "    \"\"\"Train the BertClassifier model.\n",
        "    \"\"\"\n",
        "    # Start training loop\n",
        "    print(\"Start training...\\n\")\n",
        "    run = tqdm(range(total_steps))\n",
        "    for epoch_i in range(epochs):\n",
        "        # =======================================\n",
        "        #               Training\n",
        "        # =======================================\n",
        "        # Print the header of the result table\n",
        "        print(f\"{'Epoch':^7} | {'Batch':^7} | {'Train Loss':^12} | {'Val Loss':^10} | {'Val Acc':^9} | {'Elapsed':^9}\")\n",
        "        print(\"-\"*70)\n",
        "\n",
        "        # Measure the elapsed time of each epoch\n",
        "        t0_epoch, t0_batch = time.time(), time.time()\n",
        "\n",
        "        # Reset tracking variables at the beginning of each epoch\n",
        "        total_loss, batch_loss, batch_counts = 0, 0, 0\n",
        "\n",
        "        # Put the model into the training mode\n",
        "        model.train()\n",
        "\n",
        "        # For each batch of training data...\n",
        "        for step, batch in enumerate(train_dataloader):\n",
        "            batch_counts +=1\n",
        "            # Load batch to GPU\n",
        "            b_input_ids, b_attn_mask, b_labels = tuple(t.to(device) for t in batch)\n",
        "\n",
        "            # Zero out any previously calculated gradients\n",
        "            optimizer.zero_grad()\n",
        "            # print(b_input_ids.shape, b_attn_mask.shape)\n",
        "            # Perform a forward pass. This will return logits.\n",
        "            logits = model(b_input_ids, b_attn_mask)\n",
        "\n",
        "            # Compute loss and accumulate the loss values\n",
        "            loss = loss_fn(logits, b_labels)\n",
        "            batch_loss += loss.item()\n",
        "            total_loss += loss.item()\n",
        "\n",
        "            # Perform a backward pass to calculate gradients\n",
        "            loss.backward()\n",
        "\n",
        "            # Clip the norm of the gradients to 1.0 to prevent \"exploding gradients\"\n",
        "            torch.nn.utils.clip_grad_norm_(model.parameters(), 1.0)\n",
        "\n",
        "            # Update parameters and the learning rate\n",
        "            optimizer.step()\n",
        "            scheduler.step()\n",
        "            run.update(1)\n",
        "\n",
        "\n",
        "            # Print the loss values and time elapsed for every 20 batches\n",
        "            if (step % 20 == 0 and step != 0) or (step == len(train_dataloader) - 1):\n",
        "                # Calculate time elapsed for 20 batches\n",
        "                time_elapsed = time.time() - t0_batch\n",
        "\n",
        "                # Print training results\n",
        "                print(f\"{epoch_i + 1:^7} | {step:^7} | {batch_loss / batch_counts:^12.6f} | {'-':^10} | {'-':^9} | {time_elapsed:^9.2f}\")\n",
        "\n",
        "                # Reset batch tracking variables\n",
        "                batch_loss, batch_counts = 0, 0\n",
        "                t0_batch = time.time()\n",
        "\n",
        "        # Calculate the average loss over the entire training data\n",
        "        avg_train_loss = total_loss / len(train_dataloader)\n",
        "\n",
        "        print(\"-\"*70)\n",
        "        # =======================================\n",
        "        #               Evaluation\n",
        "        # =======================================\n",
        "        if evaluation == True:\n",
        "            with torch.no_grad():\n",
        "              model.eval()\n",
        "              # After the completion of each training epoch, measure the model's performance\n",
        "              # on our validation set.\n",
        "              val_loss, val_accuracy = evaluate(model, val_dataloader)\n",
        "\n",
        "              # Print performance over the entire training data\n",
        "              time_elapsed = time.time() - t0_epoch\n",
        "              \n",
        "              print(f\"{epoch_i + 1:^7} | {'-':^7} | {avg_train_loss:^12.6f} | {val_loss:^10.6f} | {val_accuracy:^9.2f} | {time_elapsed:^9.2f}\")\n",
        "              print(\"-\"*70)\n",
        "        print(\"\\n\")\n",
        "    \n",
        "    print(\"Training complete!\")\n",
        "\n",
        "\n",
        "def evaluate(model, val_dataloader):\n",
        "    \"\"\"After the completion of each training epoch, measure the model's performance\n",
        "    on our validation set.\n",
        "    \"\"\"\n",
        "    # Put the model into the evaluation mode. The dropout layers are disabled during\n",
        "    # the test time.\n",
        "    model.eval()\n",
        "\n",
        "    # Tracking variables\n",
        "    val_accuracy = []\n",
        "    val_loss = []\n",
        "\n",
        "    # For each batch in our validation set...\n",
        "    for batch in val_dataloader:\n",
        "        # Load batch to GPU\n",
        "        b_input_ids, b_attn_mask, b_labels = tuple(t.to(device) for t in batch)\n",
        "\n",
        "        # Compute logits\n",
        "        with torch.no_grad():\n",
        "            logits = model(b_input_ids, b_attn_mask)\n",
        "\n",
        "        # Compute loss\n",
        "        loss = loss_fn(logits, b_labels)\n",
        "        val_loss.append(loss.item())\n",
        "\n",
        "        # Get the predictions\n",
        "        preds = torch.argmax(logits, dim=1).flatten()\n",
        "        prob = nn.functional.softmax(logits, dim=1)\n",
        "  \n",
        "\n",
        "        # Calculate the accuracy rate\n",
        "        accuracy = (preds == b_labels).cpu().numpy().mean() * 100\n",
        "        val_accuracy.append(accuracy)\n",
        "\n",
        "    # Compute the average accuracy and loss over the validation set.\n",
        "    val_loss = np.mean(val_loss)\n",
        "    val_accuracy = np.mean(val_accuracy)\n",
        "\n",
        "    return val_loss, val_accuracy"
      ],
      "metadata": {
        "id": "uImYGKZ3GdOT"
      },
      "execution_count": null,
      "outputs": []
    },
    {
      "cell_type": "code",
      "source": [
        "set_seed(3)\n",
        "train(model, train_dataloader, val_dataloader, epochs=15, evaluation=True)"
      ],
      "metadata": {
        "id": "nGxzzge-Fg3V"
      },
      "execution_count": null,
      "outputs": []
    },
    {
      "cell_type": "markdown",
      "source": [
        "#evaluation"
      ],
      "metadata": {
        "id": "E5tDKMPCuskA"
      }
    },
    {
      "cell_type": "code",
      "source": [
        "import torch.nn.functional as F\n",
        "\n",
        "def predict(model, test_dataloader):\n",
        "    \"\"\"Perform a forward pass on the trained BERT model to predict probabilities\n",
        "    on the test set.\n",
        "    \"\"\"\n",
        "    # Put the model into the evaluation mode. The dropout layers are disabled during\n",
        "    # the test time.\n",
        "    model.eval()\n",
        "\n",
        "    all_logits = []\n",
        "\n",
        "    # For each batch in our test set...\n",
        "    for batch in test_dataloader:\n",
        "        # Load batch to GPU\n",
        "        b_input_ids, b_attn_mask = tuple(t.to(device) for t in batch)[:2]\n",
        "\n",
        "        # Compute logits\n",
        "        with torch.no_grad():\n",
        "            logits = model(b_input_ids, b_attn_mask)\n",
        "        all_logits.append(logits)\n",
        "    \n",
        "    # Concatenate logits from each batch\n",
        "    all_logits = torch.cat(all_logits, dim=0)\n",
        "\n",
        "    # Apply softmax to calculate probabilities\n",
        "    probs = F.softmax(all_logits, dim=1).cpu().numpy()\n",
        "\n",
        "    return probs"
      ],
      "metadata": {
        "id": "01jTagJLFip8"
      },
      "execution_count": null,
      "outputs": []
    },
    {
      "cell_type": "code",
      "source": [
        "def evaluate_roc(probs, y_true):\n",
        "    \"\"\"\n",
        "    - Print AUC and accuracy on the test set\n",
        "    - Plot ROC\n",
        "    @params    probs (np.array): an array of predicted probabilities with shape (len(y_true), 2)\n",
        "    @params    y_true (np.array): an array of the true values with shape (len(y_true),)\n",
        "    \"\"\"\n",
        "    preds = probs[:, 1]\n",
        "    fpr, tpr, threshold = roc_curve(y_true, preds)\n",
        "    print(threshold)\n",
        "    roc_auc = auc(fpr, tpr)\n",
        "    print(f'AUC: {roc_auc:.4f}')\n",
        "       \n",
        "    # # Get accuracy over the test set\n",
        "    # y_pred = np.where(preds >= 0.5, 1, 0)\n",
        "    # accuracy = accuracy_score(y_true, y_pred)\n",
        "    # print(f'Accuracy: {accuracy*100:.2f}%')\n",
        "    \n",
        "    # Plot ROC AUC\n",
        "    plt.title('Receiver Operating Characteristic')\n",
        "    plt.plot(fpr, tpr, 'b', label = 'AUC = %0.2f' % roc_auc)\n",
        "    plt.legend(loc = 'lower right')\n",
        "    plt.plot([0, 1], [0, 1],'r--')\n",
        "    plt.xlim([0, 1])\n",
        "    plt.ylim([0, 1])\n",
        "    plt.ylabel('True Positive Rate')\n",
        "    plt.xlabel('False Positive Rate')\n",
        "    plt.show()"
      ],
      "metadata": {
        "id": "Ym7Oc_5YwkQs"
      },
      "execution_count": null,
      "outputs": []
    },
    {
      "cell_type": "code",
      "source": [
        "probs = predict(model, val_dataloader)\n",
        "probs.shape #prob for 2 classes"
      ],
      "metadata": {
        "colab": {
          "base_uri": "https://localhost:8080/"
        },
        "id": "2H2Wsu1axOM8",
        "outputId": "26ce0f4f-c5a3-4dbf-b896-838a4fcfc013"
      },
      "execution_count": null,
      "outputs": [
        {
          "output_type": "execute_result",
          "data": {
            "text/plain": [
              "(680, 2)"
            ]
          },
          "metadata": {},
          "execution_count": 90
        }
      ]
    },
    {
      "cell_type": "code",
      "source": [
        "evaluate_roc(probs, y_val)"
      ],
      "metadata": {
        "colab": {
          "base_uri": "https://localhost:8080/",
          "height": 1000
        },
        "id": "CIc-zk8PxdBM",
        "outputId": "2b1109c2-8d7a-441f-c1f6-880143461949"
      },
      "execution_count": null,
      "outputs": [
        {
          "output_type": "stream",
          "name": "stdout",
          "text": [
            "[1.99409628e+00 9.94096279e-01 9.92628694e-01 9.92562473e-01\n",
            " 9.86936510e-01 9.86666858e-01 9.83056486e-01 9.82909560e-01\n",
            " 9.78563249e-01 9.78093266e-01 9.76193130e-01 9.75632370e-01\n",
            " 9.60691988e-01 9.59332228e-01 9.58157241e-01 9.58072603e-01\n",
            " 9.55093920e-01 9.54745114e-01 9.54149842e-01 9.46132123e-01\n",
            " 9.44670618e-01 9.40278172e-01 9.40025210e-01 9.36607718e-01\n",
            " 9.33917224e-01 9.30116355e-01 9.29498851e-01 9.23274517e-01\n",
            " 9.22860384e-01 9.15024638e-01 9.13902521e-01 9.13099051e-01\n",
            " 9.10724938e-01 9.03326809e-01 9.03264940e-01 8.97718549e-01\n",
            " 8.97458494e-01 8.89981151e-01 8.89216721e-01 8.89095485e-01\n",
            " 8.88481438e-01 8.74667048e-01 8.71894598e-01 8.69242489e-01\n",
            " 8.67363513e-01 8.67310286e-01 8.66024613e-01 8.62882793e-01\n",
            " 8.59091818e-01 8.38558257e-01 8.35290372e-01 8.34790349e-01\n",
            " 8.34255874e-01 8.34236443e-01 8.29466045e-01 8.23168278e-01\n",
            " 8.18165720e-01 8.15200925e-01 8.12802851e-01 8.10909092e-01\n",
            " 8.05890441e-01 7.99788952e-01 7.98482776e-01 7.97590137e-01\n",
            " 7.86563456e-01 7.83838689e-01 7.79747784e-01 6.74632370e-01\n",
            " 6.74564123e-01 6.73153043e-01 6.67758644e-01 6.62994802e-01\n",
            " 6.60784841e-01 6.56526148e-01 6.55397296e-01 6.55155957e-01\n",
            " 6.43095791e-01 6.41425729e-01 6.36182964e-01 6.19215429e-01\n",
            " 6.18988514e-01 6.08732164e-01 6.01227701e-01 5.96131086e-01\n",
            " 5.94123781e-01 5.86098313e-01 5.84385514e-01 5.77699840e-01\n",
            " 5.66142619e-01 5.65051734e-01 5.62043130e-01 5.55400133e-01\n",
            " 5.31667769e-01 5.23960292e-01 5.11362135e-01 5.07845581e-01\n",
            " 5.05658865e-01 4.91340458e-01 4.90443468e-01 4.83488292e-01\n",
            " 4.83047724e-01 4.80688721e-01 4.65800852e-01 4.64728415e-01\n",
            " 4.62852508e-01 4.61123914e-01 4.43617612e-01 4.30562764e-01\n",
            " 4.27408338e-01 4.16857719e-01 4.04201537e-01 4.03777331e-01\n",
            " 3.82142991e-01 3.80541623e-01 3.77073020e-01 3.75716954e-01\n",
            " 3.65313381e-01 3.61049056e-01 3.53288949e-01 3.51937234e-01\n",
            " 3.45050782e-01 3.36911470e-01 3.29054177e-01 3.23158562e-01\n",
            " 2.87913412e-01 2.78193921e-01 2.66469479e-01 2.66082108e-01\n",
            " 2.45707095e-01 2.42512405e-01 2.42079824e-01 2.32625037e-01\n",
            " 2.26599008e-01 2.25903928e-01 2.25245491e-01 2.15959325e-01\n",
            " 2.13637426e-01 2.10590392e-01 2.06788942e-01 2.00630710e-01\n",
            " 1.93806157e-01 1.91355780e-01 1.88094065e-01 1.85688570e-01\n",
            " 1.72814474e-01 1.67618334e-01 1.65181801e-01 1.63599938e-01\n",
            " 1.56335801e-01 1.54712155e-01 1.54236317e-01 1.50131747e-01\n",
            " 1.49890527e-01 1.44598737e-01 1.29682600e-01 1.27145112e-01\n",
            " 1.23626314e-01 1.23588443e-01 1.15717515e-01 1.15442105e-01\n",
            " 1.12922214e-01 1.10714063e-01 1.03518769e-01 1.03061885e-01\n",
            " 9.87201110e-02 9.84692499e-02 9.65817794e-02 9.65556502e-02\n",
            " 9.46562886e-02 8.90871808e-02 8.58813822e-02 8.06073099e-02\n",
            " 7.67074376e-02 7.31341168e-02 6.17318265e-02 6.08302392e-02\n",
            " 6.02533147e-02 5.75278886e-02 5.42248189e-02 5.37568480e-02\n",
            " 5.27390316e-02 5.21711260e-02 4.53042351e-02 4.47231457e-02\n",
            " 4.36672978e-02 4.26769108e-02 4.14039232e-02 4.05974388e-02\n",
            " 3.96692045e-02 3.86247635e-02 3.54753844e-02 3.52790244e-02\n",
            " 3.25935408e-02 3.10646929e-02 2.48389728e-02 2.41624005e-02\n",
            " 2.38845982e-02 2.37332769e-02 2.09844112e-02 2.02659536e-02\n",
            " 1.97957531e-02 1.93573982e-02 1.81673057e-02 1.79280527e-02\n",
            " 1.29520306e-02 1.27955843e-02 1.09480927e-02 1.08097168e-02\n",
            " 7.94800371e-03 7.60274939e-03 7.53256911e-03 7.46603357e-03\n",
            " 3.45714740e-03 3.34441336e-03 1.14400894e-03]\n",
            "AUC: 0.8462\n"
          ]
        },
        {
          "output_type": "display_data",
          "data": {
            "text/plain": [
              "<Figure size 432x288 with 1 Axes>"
            ],
            "image/png": "[encoded data removed]"
          },
          "metadata": {
            "needs_background": "light"
          }
        }
      ]
    },
    {
      "cell_type": "code",
      "source": [
        ""
      ],
      "metadata": {
        "id": "vP6Ue3cQxmWm"
      },
      "execution_count": null,
      "outputs": []
    }
  ],
  "metadata": {
    "colab": {
      "name": "NLU_xlnetvsbert.ipynb",
      "provenance": [],
      "collapsed_sections": [],
      "toc_visible": true
    },
    "kernelspec": {
      "display_name": "Python 3",
      "name": "python3"
    },
    "language_info": {
      "name": "python"
    },
    "accelerator": "GPU",
    "gpuClass": "standard"
  },
  "nbformat": 4,
  "nbformat_minor": 0
}